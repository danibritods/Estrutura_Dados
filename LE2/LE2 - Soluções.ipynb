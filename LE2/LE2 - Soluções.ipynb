{
 "cells": [
  {
   "cell_type": "markdown",
   "metadata": {},
   "source": [
    "# Resolução da Lista de Exercícios 2"
   ]
  },
  {
   "cell_type": "code",
   "execution_count": 1,
   "metadata": {},
   "outputs": [],
   "source": [
    "### TADS \n",
    "class Stack :\n",
    "    # Cria uma pilha vazia.\n",
    "    def __init__( self ) :\n",
    "        self._topo = None\n",
    "        self._tam = 0\n",
    "\n",
    "    # Retorna verdadeiro se a pilha esta vazia ou false caso contrário.\n",
    "    def estaVazia( self ) :\n",
    "        return self._topo is None\n",
    "\n",
    "    # Retorna o número de elementos na pilha.\n",
    "    def __len__( self ) :\n",
    "        return self._tam\n",
    "\n",
    "    # Retorna o elemento no topo da pilha sem removê-lo.\n",
    "    def peek( self ) :\n",
    "        assert not self.estaVazia(), \"Não pode acessar o topo de uma pilha vazia\"\n",
    "        return self._topo.elem\n",
    "\n",
    "    # Remove e retorna o elemento no topo da pilha.\n",
    "    def pop( self ) :\n",
    "        assert not self.estaVazia(), \"Não pode remover de uma pilha vazia\"\n",
    "        no = self._topo\n",
    "        self._topo = self._topo.prox\n",
    "        self._tam -= 1\n",
    "        return no.elem\n",
    "\n",
    "    # Insere o item no topo da pilha.\n",
    "    def push( self, elem ) :\n",
    "        self._topo = _NoPilha( elem, self._topo)\n",
    "        self._tam += 1\n",
    "\n",
    "class _NoPilha :\n",
    "    def __init__( self, elem, link ) :\n",
    "        self.elem = elem\n",
    "        self.prox = link\n",
    "\n"
   ]
  },
  {
   "cell_type": "markdown",
   "metadata": {},
   "source": [
    "### 1. Escreva um programa que converta um número decimal em hexadecimal, usando o método de divisões sucessivas e uma pilha. Obs. Lembrar que caso o resto da divisão for 10, 11, 12, 13, 14 ou 15, o digito correspondente deverá ser A, B, C, D, E ou F."
   ]
  },
  {
   "cell_type": "code",
   "execution_count": 3,
   "metadata": {},
   "outputs": [
    {
     "name": "stdout",
     "output_type": "stream",
     "text": [
      "1FF\n"
     ]
    }
   ],
   "source": [
    "def Hexa(decimal):\n",
    "    hexa = Stack()\n",
    "    resultado = []\n",
    "    dicionario = {10:\"A\",11:\"B\",12:\"C\",13:\"D\",14:\"E\",15:\"F\"}\n",
    "    while decimal > 0:\n",
    "        hexa.push(decimal % 16)\n",
    "        decimal = decimal // 16\n",
    "    while not hexa.estaVazia():\n",
    "        resultado.append(hexa.pop())\n",
    "    print(''.join(map(str,[dicionario.get(x,x) for x in resultado])))\n",
    "      \n",
    "Hexa(511)"
   ]
  },
  {
   "cell_type": "markdown",
   "metadata": {},
   "source": [
    "### 2. Um palíndromo é uma string que pode ser lida para frente e para trás com o mesmo resultado. Por exemplo, as seguintes frases são palíndromos:\n",
    "\n",
    "    A base do teto desaba.\n",
    "    \n",
    "    A diva em Argel alegra-me a vida.\n",
    "    \n",
    "    Adias a data da saída.\n",
    "    \n",
    "    Socorram-me, subi no ônibus em Marrocos.\n",
    "    \n",
    "Observe que nos palíndromos se deve ignorar o espaçamento, a pontuação, e as diferenças entre letras maiúsculas e minúsculas.\n",
    "Escreva uma função para testar se uma string é um palíndromo usando uma pilha. A ideia é armazenar os caracteres da string na pilha e recuperar eles formando uma nova string. Depois comparar a nova string com a string original. Teste a sua função com os exemplos mostrados acima."
   ]
  },
  {
   "cell_type": "code",
   "execution_count": 81,
   "metadata": {},
   "outputs": [
    {
     "data": {
      "text/plain": [
       "[True, True, True, False]"
      ]
     },
     "execution_count": 81,
     "metadata": {},
     "output_type": "execute_result"
    }
   ],
   "source": [
    "#Precisamos de uma função pra normalizar os acentos, pontuação e maiúsculas\n",
    "import re\n",
    "def Normaliza(s):\n",
    "    return ''.join(c for c in unicodedata.normalize('NFD', re.sub(r'[^\\w\\s]','',s).lower().replace(' ',''))\n",
    "                  if unicodedata.category(c) != 'Mn')\n",
    "\n",
    "def Testa_Palindromo(frase_raw):\n",
    "    frase = Normaliza(frase_raw)\n",
    "    stack_frase = Stack()\n",
    "    for letra in frase:\n",
    "        stack_frase.push(letra)\n",
    "    for i in range(len(frase)):\n",
    "        if stack_frase.pop() != frase[i]:\n",
    "            return False\n",
    "    return True\n",
    "\n",
    "list(map(lambda s:Testa_Palindromo(s),[\"A base do teto desaba.\",\n",
    "                                  \"A diva em Argel alegra-me a vida.\",\n",
    "                                  \"Adias a data da saída.\",\n",
    "                                  \"Socorram-me, subi no ônibus em Marrocos.\"\n",
    "                                  \"Navegar é preciso.\"]))      \n",
    "        "
   ]
  },
  {
   "cell_type": "markdown",
   "metadata": {},
   "source": [
    "### 3. Modifique o programa de casamento de parênteses para considerar o casamento de { }, [ ] e ( ). O programa deverá verificar a correspondência entre o símbolo de abertura e seu correspondente de fechamento.  Identifique e reporte os tipos de erro possíveis caso existam, indicando a linha, ou uma mensagem indicando que o casamento é perfeito. Teste o seu programa com arquivos de texto, com erros e sem erros.   "
   ]
  },
  {
   "cell_type": "code",
   "execution_count": 8,
   "metadata": {},
   "outputs": [
    {
     "name": "stdout",
     "output_type": "stream",
     "text": [
      "{ } Casamento perfeito na linha 1\n",
      "( ) Casamento perfeito na linha 1\n",
      "ERRO de 1 [ abertos na linha 1\n",
      "[ ] Casamento perfeito na linha 2\n",
      "( ) Casamento perfeito na linha 2\n",
      "{ } Casamento perfeito na linha 3\n",
      "[ ] Casamento perfeito na linha 3\n",
      "ERRO de 1 ( abertos na linha 3\n"
     ]
    }
   ],
   "source": [
    "#texto = \"()))  \\n[]{{}\"\n",
    "texto = \"([{}) \\n ([{]) \\n ([{}]\"\n",
    "def Abrir(arquivo_texto):\n",
    "    with open(arquivo_texto,encoding=\"ISO-8859-1\") as f:\n",
    "        lines = f.readlines()\n",
    "    return ''.join(lines)\n",
    "texto2 = Abrir(\"texto1.txt\")\n",
    "\n",
    "def Casamento(texto):\n",
    "    texto_linhas = texto.split(\"\\n\")\n",
    "    parenteses = Stack()\n",
    "    chaves = Stack()\n",
    "    colchetes = Stack() \n",
    "    stacks = {\n",
    "        \"(\":parenteses,\n",
    "        \"[\":colchetes,\n",
    "        \"{\":colchetes\n",
    "    }\n",
    "    conversor = {\n",
    "        \")\":\"(\",\n",
    "        \"]\":\"[\",\n",
    "        \"}\":\"{\"   \n",
    "    }\n",
    "    \n",
    "    for i in range(len(texto_linhas)):\n",
    "        for caractere in texto_linhas[i]:\n",
    "            if caractere in [\"(\",\"[\",\"{\"]:\n",
    "                stacks[caractere].push(caractere)\n",
    "            if caractere in [\")\",\"]\",\"}\"]:\n",
    "                try:\n",
    "                    stacks[conversor.get(caractere)].pop()\n",
    "                    print(conversor[caractere],caractere,\"Casamento perfeito na linha\",(i+1))\n",
    "                except AssertionError:\n",
    "                    print(\"ERRO de tentar fechar\",caractere,\"a mais na linha\",(i+1))\n",
    "                       \n",
    "        if not parenteses.estaVazia():\n",
    "            print(\"ERRO de\",parenteses.__len__(),\"( abertos na linha\", (i+1))\n",
    "            parentesesses = Stack()\n",
    "        if not colchetes.estaVazia():\n",
    "            print(\"ERRO de\",colchetes.__len__(),\"[ abertos na linha\", (i+1))\n",
    "            colchetes = Stack()\n",
    "        if not chaves.estaVazia():\n",
    "            print(\"ERRO de\",chaves.__len__(),\"{ abertos na linha\", (i+1))\n",
    "            chaves = Stack()\n",
    "        \n",
    "                                  \n",
    "Casamento(texto)"
   ]
  },
  {
   "cell_type": "markdown",
   "metadata": {},
   "source": [
    "### 8 - Escreva um programa que some polinômios. Cada polinômio deve ser representado como uma lista encadeada. O primeiro nó na lista representa o termo de maior grau, enquanto que o último representa o termo de menor grau. Cada nó contém três campos: \n",
    "i) coeficiente do termo;\n",
    "ii) expoente do termo; \n",
    "iii) o ponteiro ao seguinte termo.\n",
    "\n",
    "Os polinômios podem ser adicionados utilizando um processo de intercalação. As duas listas são combinadas por intercalação, além de realizar uma operação de soma quando os exponentes forem iguais.  Observe o exemplo da Figura.\n",
    "Regras para a adição:\n",
    "\n",
    "\n",
    "1. Se os expoentes são iguais, os coeficientes são somados e o resultado inserido;\n",
    "\n",
    "2. Se os expoentes são diferentes, o termo com maior expoente devera ser inserido, enquanto o menor aguarda para ser comparado com outro termo. \n",
    "\n",
    "3. Se o resultado da adição é 0, o termo deve ser eliminado do polinômio soma.\n",
    "\n",
    "4. Se um polinômio termina antes o outro, os termos restantes do polinômio maior serão adicionados no polinômio soma.\n",
    "\n",
    "Os dados do polinômio (coeficientes e potências) podem ser lidos de um arquivo ou ingressados do teclado. Imprima os dois polinômios de entrada e o polinômio soma.\n",
    "\n"
   ]
  },
  {
   "cell_type": "code",
   "execution_count": null,
   "metadata": {},
   "outputs": [],
   "source": []
  },
  {
   "cell_type": "markdown",
   "metadata": {},
   "source": [
    "# Anotações:\n",
    "1-[x]\n",
    "2-[x]\n",
    "3-[x]\n",
    "4-[/] \n",
    "5-[/]   #3 << um reduce simples parece tranquilo\n",
    "6-[]\n",
    "7-[X]\n",
    "8-[] - dá pra tentar no Python (soma polinomios)\n",
    "9-[] -  #2 << modificar TAD de lista encadeada para colocar uma duplamente encadeada com lugares dos EUA\n",
    "10-[] - #1 << conceitual (o que são listas multiencadeadas)\n",
    "\n"
   ]
  },
  {
   "cell_type": "code",
   "execution_count": null,
   "metadata": {},
   "outputs": [],
   "source": []
  },
  {
   "cell_type": "code",
   "execution_count": null,
   "metadata": {},
   "outputs": [],
   "source": []
  },
  {
   "cell_type": "code",
   "execution_count": null,
   "metadata": {},
   "outputs": [],
   "source": []
  },
  {
   "cell_type": "markdown",
   "metadata": {},
   "source": [
    "4. Escreva um programa para encontrar todas as soluções para o problema das 8 rainhas. Observe que não basta apenas uma configuração viável, queremos descobrir todas elas. O programa deve ser capaz de continuar a busca após a primeira configuração válida.  Contar o número de soluções encontradas e imprimir essas configurações na tela."
   ]
  },
  {
   "cell_type": "code",
   "execution_count": 200,
   "metadata": {},
   "outputs": [
    {
     "name": "stdout",
     "output_type": "stream",
     "text": [
      "[0, 0] [0, 1] [0, 2] [0, 3] [0, 4] [0, 5] [0, 6] [0, 7] \n",
      "[1, 0] [1, 1] [1, 2] [1, 3] [1, 4] [1, 5] [1, 6] [1, 7] \n",
      "[2, 0] [2, 1] [2, 2] [2, 3] [2, 4] [2, 5] [2, 6] [2, 7] \n",
      "[3, 0] [3, 1] [3, 2] [3, 3] [3, 4] [3, 5] [3, 6] [3, 7] \n",
      "[4, 0] [4, 1] [4, 2] [4, 3] [4, 4] [4, 5] [4, 6] [4, 7] \n",
      "[5, 0] [5, 1] [5, 2] [5, 3] [5, 4] [5, 5] [5, 6] [5, 7] \n",
      "[6, 0] [6, 1] [6, 2] [6, 3] [6, 4] [6, 5] [6, 6] [6, 7] \n",
      "[7, 0] [7, 1] [7, 2] [7, 3] [7, 4] [7, 5] [7, 6] [7, 7] \n",
      "\n",
      "Solução!\n",
      "Solução!\n",
      "Solução!\n",
      "Solução!\n",
      "Solução!\n"
     ]
    }
   ],
   "source": [
    "tabuleiro = []\n",
    "for i in range(8):\n",
    "    for j in range(8):\n",
    "        tabuleiro.append([i,j])\n",
    "for i in range(8):\n",
    "    for j in range(8):\n",
    "        print(tabuleiro[8*i+j],end=' ')\n",
    "    print()\n",
    "print()\n",
    "\n",
    "\n",
    "casas_livres = tabuleiro\n",
    "rainhas = Stack()\n",
    "solucoes = []\n",
    "i,j = 0,0\n",
    "while len(solucoes) < 5:     \n",
    "    while len(casas_livres) > 0 and i < 8:\n",
    "        while j < 8:\n",
    "            if [i,j] in casas_livres:\n",
    "                rainhas.push([i,j])\n",
    "                casas_livres.remove([i,j])\n",
    "                casas_livres = list(filter(lambda i_j:i_j[0] != i and i_j[1] != j, tabuleiro))\n",
    "            j += 1\n",
    "        j = 0\n",
    "        i += 1\n",
    "\n",
    "    if len(rainhas) == 8:\n",
    "        print(\"Solução!\")\n",
    "        solucoes.append(rainhas)\n",
    "        i = 0\n",
    "        j = 1\n",
    "        \n",
    "    else:\n",
    "        rainha_removida = rainhas.pop()\n",
    "        \n",
    "        i -= 1 \n",
    "        j = 0 \n",
    "\n",
    "    \n",
    "    "
   ]
  },
  {
   "cell_type": "code",
   "execution_count": 286,
   "metadata": {},
   "outputs": [
    {
     "name": "stdout",
     "output_type": "stream",
     "text": [
      "[[0. 0. 0. 0. 0. 0. 0. 0.]\n",
      " [0. 0. 0. 0. 0. 0. 0. 0.]\n",
      " [0. 0. 0. 0. 0. 0. 0. 0.]\n",
      " [0. 0. 0. 0. 0. 0. 0. 0.]\n",
      " [0. 0. 0. 0. 0. 0. 0. 0.]\n",
      " [0. 0. 0. 0. 0. 0. 0. 0.]\n",
      " [0. 0. 0. 0. 0. 0. 0. 0.]\n",
      " [0. 0. 0. 0. 0. 0. 0. 0.]]\n",
      "Solução!\n",
      "[[1. 0. 0. 0. 0. 0. 0. 0.]\n",
      " [0. 0. 1. 0. 0. 0. 0. 0.]\n",
      " [0. 0. 0. 0. 0. 1. 0. 0.]\n",
      " [0. 0. 0. 0. 0. 0. 0. 1.]\n",
      " [0. 0. 0. 0. 0. 0. 1. 0.]\n",
      " [0. 0. 0. 0. 1. 0. 0. 0.]\n",
      " [0. 0. 0. 1. 0. 0. 0. 0.]\n",
      " [0. 1. 0. 0. 0. 0. 0. 0.]]\n",
      "Solução!\n",
      "[[0. 1. 0. 0. 0. 0. 0. 0.]\n",
      " [0. 0. 0. 1. 0. 0. 0. 0.]\n",
      " [0. 0. 0. 0. 0. 1. 0. 0.]\n",
      " [0. 0. 0. 0. 0. 0. 0. 1.]\n",
      " [0. 0. 1. 0. 0. 0. 0. 0.]\n",
      " [0. 0. 0. 0. 1. 0. 0. 0.]\n",
      " [0. 0. 0. 0. 0. 0. 1. 0.]\n",
      " [1. 0. 0. 0. 0. 0. 0. 0.]]\n",
      "Solução!\n",
      "[[0. 0. 1. 0. 0. 0. 0. 0.]\n",
      " [0. 1. 0. 0. 0. 0. 0. 0.]\n",
      " [0. 0. 0. 0. 0. 1. 0. 0.]\n",
      " [0. 0. 0. 0. 0. 0. 0. 1.]\n",
      " [0. 0. 0. 1. 0. 0. 0. 0.]\n",
      " [0. 0. 0. 0. 0. 0. 1. 0.]\n",
      " [1. 0. 0. 0. 0. 0. 0. 0.]\n",
      " [0. 0. 0. 0. 1. 0. 0. 0.]]\n",
      "Solução!\n",
      "[[0. 0. 0. 1. 0. 0. 0. 0.]\n",
      " [1. 0. 0. 0. 0. 0. 0. 0.]\n",
      " [0. 0. 0. 0. 0. 0. 0. 1.]\n",
      " [0. 0. 0. 0. 1. 0. 0. 0.]\n",
      " [0. 0. 0. 0. 0. 0. 1. 0.]\n",
      " [0. 0. 0. 0. 0. 1. 0. 0.]\n",
      " [0. 0. 1. 0. 0. 0. 0. 0.]\n",
      " [0. 1. 0. 0. 0. 0. 0. 0.]]\n",
      "Solução!\n",
      "[[0. 0. 0. 0. 1. 0. 0. 0.]\n",
      " [1. 0. 0. 0. 0. 0. 0. 0.]\n",
      " [0. 0. 1. 0. 0. 0. 0. 0.]\n",
      " [0. 0. 0. 0. 0. 0. 1. 0.]\n",
      " [0. 0. 0. 0. 0. 1. 0. 0.]\n",
      " [0. 0. 0. 0. 0. 0. 0. 1.]\n",
      " [0. 1. 0. 0. 0. 0. 0. 0.]\n",
      " [0. 0. 0. 1. 0. 0. 0. 0.]]\n",
      "Solução!\n",
      "[[0. 0. 0. 0. 0. 1. 0. 0.]\n",
      " [1. 0. 0. 0. 0. 0. 0. 0.]\n",
      " [0. 0. 0. 0. 1. 0. 0. 0.]\n",
      " [0. 0. 0. 1. 0. 0. 0. 0.]\n",
      " [0. 0. 0. 0. 0. 0. 0. 1.]\n",
      " [0. 0. 0. 0. 0. 0. 1. 0.]\n",
      " [0. 0. 1. 0. 0. 0. 0. 0.]\n",
      " [0. 1. 0. 0. 0. 0. 0. 0.]]\n",
      "Solução!\n",
      "[[0. 0. 0. 0. 0. 0. 1. 0.]\n",
      " [1. 0. 0. 0. 0. 0. 0. 0.]\n",
      " [0. 0. 0. 0. 0. 1. 0. 0.]\n",
      " [0. 0. 0. 0. 1. 0. 0. 0.]\n",
      " [0. 0. 1. 0. 0. 0. 0. 0.]\n",
      " [0. 0. 0. 0. 0. 0. 0. 1.]\n",
      " [0. 1. 0. 0. 0. 0. 0. 0.]\n",
      " [0. 0. 0. 1. 0. 0. 0. 0.]]\n"
     ]
    }
   ],
   "source": [
    "import numpy as np\n",
    "tabuleiro = np.zeros([8,8])\n",
    "print(tabuleiro)\n",
    "def Livre(i,j):\n",
    "    if tabuleiro[:,j].sum() > 0 or tabuleiro[i,:].sum() > 0:\n",
    "        #print(\"linha ou coluna ocupada\")\n",
    "        return False\n",
    "    else:\n",
    "        i2 = i \n",
    "        j2 = j\n",
    "        while i2 > -1 and j2 > -1:\n",
    "            if tabuleiro[i2,j2] == 1:\n",
    "                return False\n",
    "            i2 -= 1 \n",
    "            j2 -= 1 \n",
    "        while i2 > -1 and j2 < 7:\n",
    "            if tabuleiro[i2,j2] == 1:\n",
    "                return False\n",
    "            i2 -= 1 \n",
    "            j2 += 1 \n",
    "    return True\n",
    "    \n",
    "\n",
    "\n",
    "\n",
    "\n",
    "solucoes = []\n",
    "tabuleiros = []\n",
    "rainhas = Stack()\n",
    "i,j = 0,0\n",
    "gambi = 0 \n",
    "while i < 8:\n",
    "    gambi = 0 \n",
    "    #print(\"mais um i\",[i,j])\n",
    "    while j <8:\n",
    "        #print(\"será que é o j que endoidoi?\",j)\n",
    "        if Livre(i,j):\n",
    "            #print(\"yey mais uma rainha :D, tamo com\",rainhas.__len__())\n",
    "            tabuleiro[i,j] = 1\n",
    "            rainhas.push([i,j])\n",
    "            i += 1\n",
    "            j = 0  \n",
    "            gambi = 1 \n",
    "        else:\n",
    "            j += 1\n",
    "    if rainhas.__len__() == 8:\n",
    "        print(\"Solução!\")\n",
    "        solucoes.append(rainhas)\n",
    "        rainhas = Stack()\n",
    "        print(tabuleiro)\n",
    "        tabuleiros.append(tabuleiro)\n",
    "        i = len(solucoes)//8\n",
    "        j = len(solucoes)%8\n",
    "        tabuleiro = np.zeros([8,8])\n",
    "        gambi = 1\n",
    "    elif gambi == 0:\n",
    "        #print(\"é cumpadi, menos uma\",[i,j])\n",
    "        try:\n",
    "            devolver = rainhas.pop()\n",
    "            #print(devolver)\n",
    "            i,j = devolver[0],devolver[1]\n",
    "            tabuleiro[i,j] = 0\n",
    "            j += 1\n",
    "        except AssertionError:\n",
    "            print(\"Assertion Error\")"
   ]
  },
  {
   "cell_type": "code",
   "execution_count": 294,
   "metadata": {},
   "outputs": [
    {
     "name": "stdout",
     "output_type": "stream",
     "text": [
      "11 4\n"
     ]
    }
   ],
   "source": [
    "x = 92\n",
    "print(x//8, x%8)"
   ]
  },
  {
   "cell_type": "code",
   "execution_count": 296,
   "metadata": {},
   "outputs": [
    {
     "name": "stdout",
     "output_type": "stream",
     "text": [
      "(0, 4, 7, 5, 2, 6, 1, 3)\n",
      "(0, 5, 7, 2, 6, 3, 1, 4)\n",
      "(0, 6, 3, 5, 7, 1, 4, 2)\n",
      "(0, 6, 4, 7, 1, 3, 5, 2)\n",
      "(1, 3, 5, 7, 2, 0, 6, 4)\n",
      "(1, 4, 6, 0, 2, 7, 5, 3)\n",
      "(1, 4, 6, 3, 0, 7, 5, 2)\n",
      "(1, 5, 0, 6, 3, 7, 2, 4)\n",
      "(1, 5, 7, 2, 0, 3, 6, 4)\n",
      "(1, 6, 2, 5, 7, 4, 0, 3)\n",
      "(1, 6, 4, 7, 0, 3, 5, 2)\n",
      "(1, 7, 5, 0, 2, 4, 6, 3)\n",
      "(2, 0, 6, 4, 7, 1, 3, 5)\n",
      "(2, 4, 1, 7, 0, 6, 3, 5)\n",
      "(2, 4, 1, 7, 5, 3, 6, 0)\n",
      "(2, 4, 6, 0, 3, 1, 7, 5)\n",
      "(2, 4, 7, 3, 0, 6, 1, 5)\n",
      "(2, 5, 1, 4, 7, 0, 6, 3)\n",
      "(2, 5, 1, 6, 0, 3, 7, 4)\n",
      "(2, 5, 1, 6, 4, 0, 7, 3)\n",
      "(2, 5, 3, 0, 7, 4, 6, 1)\n",
      "(2, 5, 3, 1, 7, 4, 6, 0)\n",
      "(2, 5, 7, 0, 3, 6, 4, 1)\n",
      "(2, 5, 7, 0, 4, 6, 1, 3)\n",
      "(2, 5, 7, 1, 3, 0, 6, 4)\n",
      "(2, 6, 1, 7, 4, 0, 3, 5)\n",
      "(2, 6, 1, 7, 5, 3, 0, 4)\n",
      "(2, 7, 3, 6, 0, 5, 1, 4)\n",
      "(3, 0, 4, 7, 1, 6, 2, 5)\n",
      "(3, 0, 4, 7, 5, 2, 6, 1)\n",
      "(3, 1, 4, 7, 5, 0, 2, 6)\n",
      "(3, 1, 6, 2, 5, 7, 0, 4)\n",
      "(3, 1, 6, 2, 5, 7, 4, 0)\n",
      "(3, 1, 6, 4, 0, 7, 5, 2)\n",
      "(3, 1, 7, 4, 6, 0, 2, 5)\n",
      "(3, 1, 7, 5, 0, 2, 4, 6)\n",
      "(3, 5, 0, 4, 1, 7, 2, 6)\n",
      "(3, 5, 7, 1, 6, 0, 2, 4)\n",
      "(3, 5, 7, 2, 0, 6, 4, 1)\n",
      "(3, 6, 0, 7, 4, 1, 5, 2)\n",
      "(3, 6, 2, 7, 1, 4, 0, 5)\n",
      "(3, 6, 4, 1, 5, 0, 2, 7)\n",
      "(3, 6, 4, 2, 0, 5, 7, 1)\n",
      "(3, 7, 0, 2, 5, 1, 6, 4)\n",
      "(3, 7, 0, 4, 6, 1, 5, 2)\n",
      "(3, 7, 4, 2, 0, 6, 1, 5)\n",
      "(4, 0, 3, 5, 7, 1, 6, 2)\n",
      "(4, 0, 7, 3, 1, 6, 2, 5)\n",
      "(4, 0, 7, 5, 2, 6, 1, 3)\n",
      "(4, 1, 3, 5, 7, 2, 0, 6)\n",
      "(4, 1, 3, 6, 2, 7, 5, 0)\n",
      "(4, 1, 5, 0, 6, 3, 7, 2)\n",
      "(4, 1, 7, 0, 3, 6, 2, 5)\n",
      "(4, 2, 0, 5, 7, 1, 3, 6)\n",
      "(4, 2, 0, 6, 1, 7, 5, 3)\n",
      "(4, 2, 7, 3, 6, 0, 5, 1)\n",
      "(4, 6, 0, 2, 7, 5, 3, 1)\n",
      "(4, 6, 0, 3, 1, 7, 5, 2)\n",
      "(4, 6, 1, 3, 7, 0, 2, 5)\n",
      "(4, 6, 1, 5, 2, 0, 3, 7)\n",
      "(4, 6, 1, 5, 2, 0, 7, 3)\n",
      "(4, 6, 3, 0, 2, 7, 5, 1)\n",
      "(4, 7, 3, 0, 2, 5, 1, 6)\n",
      "(4, 7, 3, 0, 6, 1, 5, 2)\n",
      "(5, 0, 4, 1, 7, 2, 6, 3)\n",
      "(5, 1, 6, 0, 2, 4, 7, 3)\n",
      "(5, 1, 6, 0, 3, 7, 4, 2)\n",
      "(5, 2, 0, 6, 4, 7, 1, 3)\n",
      "(5, 2, 0, 7, 3, 1, 6, 4)\n",
      "(5, 2, 0, 7, 4, 1, 3, 6)\n",
      "(5, 2, 4, 6, 0, 3, 1, 7)\n",
      "(5, 2, 4, 7, 0, 3, 1, 6)\n",
      "(5, 2, 6, 1, 3, 7, 0, 4)\n",
      "(5, 2, 6, 1, 7, 4, 0, 3)\n",
      "(5, 2, 6, 3, 0, 7, 1, 4)\n",
      "(5, 3, 0, 4, 7, 1, 6, 2)\n",
      "(5, 3, 1, 7, 4, 6, 0, 2)\n",
      "(5, 3, 6, 0, 2, 4, 1, 7)\n",
      "(5, 3, 6, 0, 7, 1, 4, 2)\n",
      "(5, 7, 1, 3, 0, 6, 4, 2)\n",
      "(6, 0, 2, 7, 5, 3, 1, 4)\n",
      "(6, 1, 3, 0, 7, 4, 2, 5)\n",
      "(6, 1, 5, 2, 0, 3, 7, 4)\n",
      "(6, 2, 0, 5, 7, 4, 1, 3)\n",
      "(6, 2, 7, 1, 4, 0, 5, 3)\n",
      "(6, 3, 1, 4, 7, 0, 2, 5)\n",
      "(6, 3, 1, 7, 5, 0, 2, 4)\n",
      "(6, 4, 2, 0, 5, 7, 1, 3)\n",
      "(7, 1, 3, 0, 6, 4, 2, 5)\n",
      "(7, 1, 4, 2, 0, 6, 3, 5)\n",
      "(7, 2, 0, 5, 1, 4, 6, 3)\n",
      "(7, 3, 0, 2, 5, 1, 6, 4)\n"
     ]
    }
   ],
   "source": [
    "from itertools import permutations\n",
    "\n",
    "n = 8\n",
    "cols = range(n)\n",
    "for vec in permutations(cols):\n",
    "    if (n == len(set(vec[i]+i for i in cols)) == len(set(vec[i]-i for i in cols))):\n",
    "        print(vec)"
   ]
  },
  {
   "cell_type": "code",
   "execution_count": 217,
   "metadata": {},
   "outputs": [
    {
     "data": {
      "text/plain": [
       "2.0"
      ]
     },
     "execution_count": 217,
     "metadata": {},
     "output_type": "execute_result"
    }
   ],
   "source": [
    "tabuleiro = np.zeros([8,8])\n",
    "tabuleiro[5,5] = 1\n",
    "a = [5,5]\n",
    "tabuleiro[a[0],a[1]] = 2\n",
    "tabuleiro\n",
    "tabuleiro[:,5].sum()"
   ]
  },
  {
   "cell_type": "code",
   "execution_count": 115,
   "metadata": {},
   "outputs": [],
   "source": [
    "casas_livres = tabuleiro\n",
    "rainhas = Stack()\n",
    "solucoes = []\n",
    "i,j = 0\n",
    "while len(solucoes) < 92:  \n",
    "    \n",
    "    while len(casas_livres) > 0 or rainhas == 8:\n",
    "        if [i,j] in casas_livres:\n",
    "            rainhas.push([i,j])\n",
    "            casas_livres.remove([i,j])\n",
    "            casas_livres = list(filter(lambda i_j:i_j[0] != i and i_j[1] != j), tabuleiro)\n",
    "        j += 1 \n",
    "        \n",
    "    if len(rainhas) == 8:\n",
    "        print(\"Solução!\")\n",
    "        solucoes.append(rainhas)\n",
    "        i = 0\n",
    "        j = 1\n",
    "        \n",
    "    else:\n",
    "        rainhas.pop()\n",
    "        i -= 1 \n",
    "        j = 0 \n",
    "\n",
    "    \n",
    "    "
   ]
  },
  {
   "cell_type": "code",
   "execution_count": null,
   "metadata": {},
   "outputs": [],
   "source": [
    "#vou usar a lista python como pilha?\n",
    "\n",
    "colunas_livres = [0,1,2,3,4,5,6,7,8]\n",
    "rainhas = Stack()\n",
    "resultados = []\n",
    "while len(resultados) < 10:\n",
    "    while i < 8:\n",
    "        if colunas_livres == []:\n",
    "            if rainhas.__len__() == 8:\n",
    "                resultados.append()\n",
    "                \n",
    "            i -= 1\n",
    "            rainha_removida = rainhas.pop()\n",
    "            colunas_livres.append()\n",
    "        else:\n",
    "            rainha.push(colunas_livres[j])\n",
    "            \n",
    "        i+=1\n",
    "            \n",
    "            \n"
   ]
  },
  {
   "cell_type": "code",
   "execution_count": 384,
   "metadata": {},
   "outputs": [
    {
     "data": {
      "text/plain": [
       "3"
      ]
     },
     "execution_count": 384,
     "metadata": {},
     "output_type": "execute_result"
    }
   ],
   "source": []
  },
  {
   "cell_type": "code",
   "execution_count": null,
   "metadata": {},
   "outputs": [],
   "source": []
  },
  {
   "cell_type": "code",
   "execution_count": null,
   "metadata": {},
   "outputs": [],
   "source": []
  },
  {
   "cell_type": "code",
   "execution_count": null,
   "metadata": {},
   "outputs": [],
   "source": []
  },
  {
   "cell_type": "code",
   "execution_count": null,
   "metadata": {},
   "outputs": [],
   "source": []
  },
  {
   "cell_type": "code",
   "execution_count": null,
   "metadata": {},
   "outputs": [],
   "source": [
    "\n"
   ]
  },
  {
   "cell_type": "code",
   "execution_count": null,
   "metadata": {},
   "outputs": [],
   "source": []
  },
  {
   "cell_type": "code",
   "execution_count": 326,
   "metadata": {},
   "outputs": [],
   "source": []
  }
 ],
 "metadata": {
  "kernelspec": {
   "display_name": "Python 3",
   "language": "python",
   "name": "python3"
  },
  "language_info": {
   "codemirror_mode": {
    "name": "ipython",
    "version": 3
   },
   "file_extension": ".py",
   "mimetype": "text/x-python",
   "name": "python",
   "nbconvert_exporter": "python",
   "pygments_lexer": "ipython3",
   "version": "3.7.6"
  }
 },
 "nbformat": 4,
 "nbformat_minor": 4
}

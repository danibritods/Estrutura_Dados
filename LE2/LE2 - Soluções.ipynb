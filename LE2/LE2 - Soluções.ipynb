{
 "cells": [
  {
   "cell_type": "markdown",
   "metadata": {},
   "source": [
    "# Resolução da Lista de Exercícios 2"
   ]
  },
  {
   "cell_type": "code",
   "execution_count": 2,
   "metadata": {},
   "outputs": [],
   "source": [
    "### TADS \n",
    "class Stack :\n",
    "    # Cria uma pilha vazia.\n",
    "    def __init__( self ) :\n",
    "        self._topo = None\n",
    "        self._tam = 0\n",
    "\n",
    "    # Retorna verdadeiro se a pilha esta vazia ou false caso contrário.\n",
    "    def estaVazia( self ) :\n",
    "        return self._topo is None\n",
    "\n",
    "    # Retorna o número de elementos na pilha.\n",
    "    def __len__( self ) :\n",
    "        return self._tam\n",
    "\n",
    "    # Retorna o elemento no topo da pilha sem removê-lo.\n",
    "    def peek( self ) :\n",
    "        assert not self.estaVazia(), \"Não pode acessar o topo de uma pilha vazia\"\n",
    "        return self._topo.elem\n",
    "\n",
    "    # Remove e retorna o elemento no topo da pilha.\n",
    "    def pop( self ) :\n",
    "        assert not self.estaVazia(), \"Não pode remover de uma pilha vazia\"\n",
    "        no = self._topo\n",
    "        self._topo = self._topo.prox\n",
    "        self._tam -= 1\n",
    "        return no.elem\n",
    "\n",
    "    # Insere o item no topo da pilha.\n",
    "    def push( self, elem ) :\n",
    "        self._topo = _NoPilha( elem, self._topo)\n",
    "        self._tam += 1\n",
    "\n",
    "class _NoPilha :\n",
    "    def __init__( self, elem, link ) :\n",
    "        self.elem = elem\n",
    "        self.prox = link\n",
    "\n"
   ]
  },
  {
   "cell_type": "markdown",
   "metadata": {},
   "source": [
    "1. Escreva um programa que converta um número decimal em hexadecimal, usando o método de divisões sucessivas e uma pilha. Obs. Lembrar que caso o resto da divisão for 10, 11, 12, 13, 14 ou 15, o digito correspondente deverá ser A, B, C, D, E ou F."
   ]
  },
  {
   "cell_type": "code",
   "execution_count": 175,
   "metadata": {},
   "outputs": [
    {
     "name": "stdout",
     "output_type": "stream",
     "text": [
      "3E8\n"
     ]
    }
   ],
   "source": [
    "def Hexa(decimal):\n",
    "    hexa = Stack()\n",
    "    resultado = []\n",
    "    dicionario = {10:\"A\",11:\"B\",12:\"C\",13:\"D\",14:\"E\",15:\"F\"}\n",
    "    while decimal > 0:\n",
    "        hexa.push(decimal % 16)\n",
    "        decimal = decimal // 16\n",
    "    while not hexa.estaVazia():\n",
    "        resultado.append(hexa.pop())\n",
    "    print(''.join(map(str,[dicionario.get(x,x) for x in resultado])))\n",
    "      \n",
    "Hexa(1000)"
   ]
  },
  {
   "cell_type": "markdown",
   "metadata": {},
   "source": [
    "2. Um palíndromo é uma string que pode ser lida para frente e para trás com o mesmo resultado. Por exemplo, as seguintes frases são palíndromos:\n",
    "\n",
    "    A base do teto desaba.\n",
    "    \n",
    "    A diva em Argel alegra-me a vida.\n",
    "    \n",
    "    Adias a data da saída.\n",
    "    \n",
    "    Socorram-me, subi no ônibus em Marrocos.\n",
    "    \n",
    "Observe que nos palíndromos se deve ignorar o espaçamento, a pontuação, e as diferenças entre letras maiúsculas e minúsculas.\n",
    "Escreva uma função para testar se uma string é um palíndromo usando uma pilha. A ideia é armazenar os caracteres da string na pilha e recuperar eles formando uma nova string. Depois comparar a nova string com a string original. Teste a sua função com os exemplos mostrados acima."
   ]
  },
  {
   "cell_type": "code",
   "execution_count": 81,
   "metadata": {},
   "outputs": [
    {
     "data": {
      "text/plain": [
       "[True, True, True, False]"
      ]
     },
     "execution_count": 81,
     "metadata": {},
     "output_type": "execute_result"
    }
   ],
   "source": [
    "#Precisamos de uma função pra normalizar os acentos, pontuação e maiúsculas\n",
    "import re\n",
    "def Normaliza(s):\n",
    "    return ''.join(c for c in unicodedata.normalize('NFD', re.sub(r'[^\\w\\s]','',s).lower().replace(' ',''))\n",
    "                  if unicodedata.category(c) != 'Mn')\n",
    "\n",
    "def Testa_Palindromo(frase_raw):\n",
    "    frase = Normaliza(frase_raw)\n",
    "    stack_frase = Stack()\n",
    "    for letra in frase:\n",
    "        stack_frase.push(letra)\n",
    "    for i in range(len(frase)):\n",
    "        if stack_frase.pop() != frase[i]:\n",
    "            return False\n",
    "    return True\n",
    "\n",
    "list(map(lambda s:Testa_Palindromo(s),[\"A base do teto desaba.\",\n",
    "                                  \"A diva em Argel alegra-me a vida.\",\n",
    "                                  \"Adias a data da saída.\",\n",
    "                                  \"Socorram-me, subi no ônibus em Marrocos.\"\n",
    "                                  \"Navegar é preciso.\"]))      \n",
    "        "
   ]
  },
  {
   "cell_type": "markdown",
   "metadata": {},
   "source": [
    "3. Modifique o programa de casamento de parênteses para considerar o casamento de { }, [ ] e ( ). O programa deverá verificar a correspondência entre o símbolo de abertura e seu correspondente de fechamento.  Identifique e reporte os tipos de erro possíveis caso existam, indicando a linha, ou uma mensagem indicando que o casamento é perfeito. Teste o seu programa com arquivos de texto, com erros e sem erros.   "
   ]
  },
  {
   "cell_type": "code",
   "execution_count": 142,
   "metadata": {},
   "outputs": [
    {
     "name": "stdout",
     "output_type": "stream",
     "text": [
      "( ) Casamento perfeito na linha 1\n",
      "( ) Casamento perfeito na linha 1\n",
      "ERRO de ter ] a mais na linha 1\n",
      "ERRO de ter ] a mais na linha 1\n",
      "ERRO de 2 ( abertos na linha 1\n",
      "ERRO de 1 [ abertos na linha 1\n"
     ]
    }
   ],
   "source": [
    "texto = \"(A + (((45) 2034)]]{ \"\n",
    "def Casamento(texto):\n",
    "    log = []\n",
    "    texto_linhas = texto.split(\"/n\")\n",
    "    parenteses = Stack()\n",
    "    chaves = Stack()\n",
    "    colchetes = Stack() \n",
    "    stacks = {\n",
    "        \"(\":parenteses,\n",
    "        \"[\":colchetes,\n",
    "        \"{\":colchetes\n",
    "    }\n",
    "    conversor = {\n",
    "        \")\":\"(\",\n",
    "        \"]\":\"[\",\n",
    "        \"}\":\"{\"   \n",
    "    }\n",
    "    for i in range(len(texto_linhas)):\n",
    "        for caractere in texto_linhas[i]:\n",
    "            if caractere in [\"(\",\"[\",\"{\"]:\n",
    "                stacks[caractere].push(caractere)\n",
    "            elif caractere in [\")\",\"]\",\"}\"]:\n",
    "                try:\n",
    "                    stacks[conversor.get(caractere)].pop()\n",
    "                    print(conversor[caractere],caractere,\"Casamento perfeito na linha\",(i+1))\n",
    "                except AssertionError:\n",
    "                    print(\"ERRO de ter\",caractere,\"a mais na linha\",(i + 1))\n",
    "        if not parenteses.estaVazia():\n",
    "            print(\"ERRO de\",parenteses.__len__(),\"( abertos na linha\", (i+1))\n",
    "        if not colchetes.estaVazia():\n",
    "            print(\"ERRO de\",colchetes.__len__(),\"[ abertos na linha\", (i+1))\n",
    "        if not chaves.estaVazia():\n",
    "            print(\"ERRO de\",chaves.__len__(),\"{ abertos na linha\", (i+1))\n",
    "                    \n",
    "                \n",
    "Casamento(texto)"
   ]
  },
  {
   "cell_type": "markdown",
   "metadata": {},
   "source": [
    "4. Escreva um programa para encontrar todas as soluções para o problema das 8 rainhas. Observe que não basta apenas uma configuração viável, queremos descobrir todas elas. O programa deve ser capaz de continuar a busca após a primeira configuração válida.  Contar o número de soluções encontradas e imprimir essas configurações na tela."
   ]
  },
  {
   "cell_type": "code",
   "execution_count": null,
   "metadata": {},
   "outputs": [],
   "source": [
    "my_dictionary = {k: f(v) for k, v in my_dictionary.items()}\n"
   ]
  },
  {
   "cell_type": "code",
   "execution_count": null,
   "metadata": {},
   "outputs": [],
   "source": []
  },
  {
   "cell_type": "code",
   "execution_count": null,
   "metadata": {},
   "outputs": [],
   "source": []
  },
  {
   "cell_type": "code",
   "execution_count": 115,
   "metadata": {},
   "outputs": [],
   "source": []
  }
 ],
 "metadata": {
  "kernelspec": {
   "display_name": "Python 3",
   "language": "python",
   "name": "python3"
  },
  "language_info": {
   "codemirror_mode": {
    "name": "ipython",
    "version": 3
   },
   "file_extension": ".py",
   "mimetype": "text/x-python",
   "name": "python",
   "nbconvert_exporter": "python",
   "pygments_lexer": "ipython3",
   "version": "3.7.6"
  }
 },
 "nbformat": 4,
 "nbformat_minor": 4
}
